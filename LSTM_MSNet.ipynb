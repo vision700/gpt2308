{
  "nbformat": 4,
  "nbformat_minor": 0,
  "metadata": {
    "colab": {
      "provenance": []
    },
    "kernelspec": {
      "name": "python3",
      "display_name": "Python 3"
    },
    "language_info": {
      "name": "python"
    }
  },
  "cells": [
    {
      "cell_type": "markdown",
      "source": [
        "\n",
        "**1. 필요한 라이브러리 설치**\n",
        "1. Python: >=3.6\n",
        "2. Tensorflow: 1.12.0\n",
        "3. smac: 0.8.0"
      ],
      "metadata": {
        "id": "Op8PDxuW-94D"
      }
    },
    {
      "cell_type": "code",
      "source": [
        "#//3. SMAC 설치\n",
        "!pip install smac==0.8.0"
      ],
      "metadata": {
        "id": "EIxdqPkovxUy"
      },
      "execution_count": null,
      "outputs": []
    },
    {
      "cell_type": "code",
      "source": [
        "#//텐서플로우 1.12 설치를 위한 콘다코랩 설치\n",
        "!pip install -q condacolab\n",
        "import condacolab\n",
        "condacolab.install()\n",
        "\n",
        "!conda activate tf_env\n",
        "!conda install -c conda-forge tensorflow=1.12.0"
      ],
      "metadata": {
        "id": "jscQQJd-UpPL"
      },
      "execution_count": null,
      "outputs": []
    },
    {
      "cell_type": "code",
      "source": [
        "import tensorflow.compat.v1 as tf\n",
        "tf.disable_v2_behavior()"
      ],
      "metadata": {
        "id": "C_pfjpmC7XxL"
      },
      "execution_count": null,
      "outputs": []
    },
    {
      "cell_type": "code",
      "source": [
        "import sys\n",
        "import tensorflow as tf\n",
        "import smac\n",
        "\n",
        "# Python 버전 확인\n",
        "print(\"Python 버전:\", sys.version)\n",
        "\n",
        "# 텐서플로우 버전 확인\n",
        "print(\"텐서플로우 버전:\", tf.__version__)\n",
        "\n",
        "# SMAC 버전 확인\n",
        "print(\"SMAC 버전:\", smac.__version__)"
      ],
      "metadata": {
        "id": "p7VtIaE8vaH3"
      },
      "execution_count": null,
      "outputs": []
    },
    {
      "cell_type": "markdown",
      "source": [
        "**2. LSTM_MSNet 코드 다운로드(GitHub)**"
      ],
      "metadata": {
        "id": "jtXCtBtFuY7H"
      }
    },
    {
      "cell_type": "code",
      "execution_count": null,
      "metadata": {
        "colab": {
          "base_uri": "https://localhost:8080/"
        },
        "id": "GfoUWA77so1m",
        "outputId": "813e6d6b-dc8d-466a-c18c-ab400f84d57f"
      },
      "outputs": [
        {
          "output_type": "stream",
          "name": "stdout",
          "text": [
            "Cloning into 'LSTMMSNet'...\n",
            "remote: Enumerating objects: 222, done.\u001b[K\n",
            "remote: Counting objects: 100% (222/222), done.\u001b[K\n",
            "remote: Compressing objects: 100% (167/167), done.\u001b[K\n",
            "remote: Total 222 (delta 77), reused 122 (delta 44), pack-reused 0\u001b[K\n",
            "Receiving objects: 100% (222/222), 5.49 MiB | 7.98 MiB/s, done.\n",
            "Resolving deltas: 100% (77/77), done.\n"
          ]
        }
      ],
      "source": [
        "#// Git 저장소에서 소스 코드를 복제(clone)하는 명령어\n",
        "# (프로젝트의 전체 소스 코드를 가져와 현재 작업 중인 디렉토리에 복제)\n",
        "!git clone https://github.com/kasungayan/LSTMMSNet"
      ]
    },
    {
      "cell_type": "code",
      "source": [
        "#//작업 디렉토리가 content/LSTMMSNet으로 변경(파일 및 폴더에 접근하고 작업 가능)\n",
        "%cd /content/LSTMMSNet"
      ],
      "metadata": {
        "colab": {
          "base_uri": "https://localhost:8080/"
        },
        "id": "bOOGkChzs4O2",
        "outputId": "0dff6d1a-ad95-458e-e574-064ba70179e6"
      },
      "execution_count": null,
      "outputs": [
        {
          "output_type": "stream",
          "name": "stdout",
          "text": [
            "/content/LSTMMSNet\n"
          ]
        }
      ]
    },
    {
      "cell_type": "code",
      "source": [
        "import os\n",
        "\n",
        "# 경로 설정\n",
        "project_root = \"/absolute/path/to/project/root\"\n",
        "cocob_optimizer = \"/absolute/path/to/src/LSTM-Models/external_packages/cocob_optimizer\"\n",
        "\n",
        "# PYTHONPATH 설정\n",
        "os.environ[\"PYTHONPATH\"] = f\"{os.environ.get('PYTHONPATH', '')}:{project_root}:{cocob_optimizer}\"\n"
      ],
      "metadata": {
        "id": "TpcW_4U2iSJG"
      },
      "execution_count": null,
      "outputs": []
    },
    {
      "cell_type": "markdown",
      "source": [
        "1단계: 전처리 레이어\n",
        "- 정규화 및 분산 안정화를 수행\n",
        "- 계절성 분해를 수행"
      ],
      "metadata": {
        "id": "XNsoWcPJYyMW"
      }
    },
    {
      "cell_type": "code",
      "source": [
        "%cd /content/LSTMMSNet/src/LSTM-Models/preprocess_scripts/DS/MSTL-DS/\n",
        "!python energy_create_tfrecords_mean_hourly_mstl.py"
      ],
      "metadata": {
        "id": "XE-q6XLPiIS7"
      },
      "execution_count": null,
      "outputs": []
    },
    {
      "cell_type": "markdown",
      "source": [
        "3. 데이터 전처리\n",
        "*   학습, 검증 및 테스트 스크립트 생성\n",
        "*   TRecord 생성(STM-MSNet을 교육할 때 Tensorflow API에서 제공하는 tfrecords 기능을 사용하여 모델을 더 빠르게 실행)\n",
        "\n"
      ],
      "metadata": {
        "id": "xg1YX90Ctqr3"
      }
    },
    {
      "cell_type": "markdown",
      "source": [
        "⏬이 코드는 TFRecord 파일로 데이터를 저장하기 위해 필요한 데이터를 읽고 변환하는 기능을 제공(데이터셋 ->TFRecord 형식)"
      ],
      "metadata": {
        "id": "0-h2Z-wUzBLo"
      }
    },
    {
      "cell_type": "code",
      "source": [
        "%cd /content/LSTMMSNet/src/LSTM-Models/tfrecords_handler/moving_window/\n",
        "!python energy_tfrecord_DS_writer.py"
      ],
      "metadata": {
        "id": "4eqCTzf_CS52"
      },
      "execution_count": null,
      "outputs": []
    },
    {
      "cell_type": "markdown",
      "source": [
        "⏬ TFRecordReader 클래스를 사용하여 TFRecord 파일에서 데이터를 읽어오고, 파싱하여 필요한 데이터를 추출"
      ],
      "metadata": {
        "id": "xGYWZuulzi3j"
      }
    },
    {
      "cell_type": "code",
      "source": [
        "%cd /content/LSTMMSNet/src/LSTM-Models/tfrecords_handler/moving_window/\n",
        "!python energy_tfrecord_DS_reader.py"
      ],
      "metadata": {
        "id": "shiZdJL7T6PT"
      },
      "execution_count": null,
      "outputs": []
    },
    {
      "cell_type": "markdown",
      "source": [
        "2단계: 순환 레이어\n",
        "- LSTM 기반 쌓기 아키텍처(여러 개의 LSTM 레이어를 쌓아서 네트워크를 구성)\n",
        "\n",
        "- 기본 모델\n",
        "- 스테킹 모델"
      ],
      "metadata": {
        "id": "qWvNaW3be3vM"
      }
    },
    {
      "cell_type": "markdown",
      "source": [
        "generic_model_energy_DS_trainer\n",
        "1. 필요한 라이브러리 및 모듈 임포트\n",
        "2. 하이퍼파라미터 설정:SMAC 알고리즘을 통해 최적화할 하이퍼파라미터의 범위를 지정\n",
        "3. 모델 아키텍처 및 옵티마이저 설정: 다양한 모델 아키텍처(스태킹 모델, 시퀀스 투 시퀀스 모델, 어텐션 모델 등)과 옵티마이저(Adagrad, Adam, COCOB 등)를 설정\n",
        "4. 학습 함수 설정: SMAC 알고리즘의 타겟 알고리즘으로 사용될 학습 함수를 정의\n",
        "5. SMAC 알고리즘 설정: SMAC의 구성 요소인 Configuration Space와 Scenario를 설정하고, SMAC 객체를 생성하여 최적화를 수행\n",
        "6. 주요 함수 실행: main 함수에서 위의 함수들을 호출하여 모델 학습과 최적화를 실행\n",
        "⏬⏬⏬⏬⏬⏬⏬⏬⏬⏬⏬⏬⏬⏬⏬⏬⏬⏬⏬⏬⏬⏬⏬⏬⏬⏬⏬⏬\n"
      ],
      "metadata": {
        "id": "kdvZrLUCz7qi"
      }
    },
    {
      "cell_type": "code",
      "source": [
        "%cd /content/LSTMMSNet/src/LSTM-Models/\n",
        "!python generic_model_energy_DS_trainer.py"
      ],
      "metadata": {
        "colab": {
          "base_uri": "https://localhost:8080/"
        },
        "id": "NhGbYN2oVS5e",
        "outputId": "8cc402e0-936d-4548-f850-d4185f7af16c"
      },
      "execution_count": null,
      "outputs": [
        {
          "output_type": "stream",
          "name": "stdout",
          "text": [
            "/content/LSTMMSNet/src/LSTM-Models\n",
            "2023-06-02 09:02:28.765180: W tensorflow/compiler/tf2tensorrt/utils/py_utils.cc:38] TF-TRT Warning: Could not find TensorRT\n",
            "Traceback (most recent call last):\n",
            "  File \"/content/LSTMMSNet/src/LSTM-Models/generic_model_energy_DS_trainer.py\", line 5, in <module>\n",
            "    from generic_mean_m4hourly_test import testing\n",
            "ModuleNotFoundError: No module named 'generic_mean_m4hourly_test'\n"
          ]
        }
      ]
    },
    {
      "cell_type": "markdown",
      "source": [
        "이 모델은 주어진 시계열 데이터를 기반으로 예측 모델을 학습하고, 학습된 모델을 평가하는 기능을 제공\n",
        "\n",
        "1. 클래스 초기화: StackingModelTrainer 클래스는 여러 매개변수를 받아 객체를 초기화합니다. 이 매개변수들은 모델의 구성과 학습에 필요한 설정 값을 제공합니다.\n",
        "\n",
        "2. 손실 함수 정의: __l1_loss 및 __l2_loss 메서드는 예측 값과 실제 값 사이의 손실을 계산하는 함수입니다. L1 손실과 L2 손실을 계산하여 반환합니다.\n",
        "\n",
        "3. 모델 학습: train_model 메서드는 주어진 하이퍼파라미터와 데이터를 사용하여 스태킹 모델을 학습합니다. 옵티마이저와 레이어 수, 셀 크기 등의 하이퍼파라미터를 설정하고, 입력과 출력 데이터를 placeholder로 정의합니다. 그 후 RNN 셀과 레이어를 구성하고, 학습 및 추론에 사용되는 변수를 설정합니다. 학습 데이터와 검증 데이터셋을 tf.data.Dataset으로 준비하고, 학습과 평가를 반복하여 수행합니다.\n",
        "\n",
        "4. 학습 및 검증 데이터 처리: 학습 데이터와 검증 데이터는 TFRecord 형식으로 제공됩니다. TFRecordReader를 사용하여 데이터를 읽고, 패딩 처리 및 배치 처리를 수행합니다.\n",
        "\n",
        "5. 최적화 및 평가: 학습 데이터를 사용하여 모델을 학습하고, 검증 데이터를 사용하여 학습된 모델을 평가합니다. 검증 데이터에 대한 예측 결과를 계산하고, SMAPE(Symmetric Mean Absolute Percentage Error) 값을 계산하여 모델의 성능을 평가합니다.\n",
        "⏬⏬⏬⏬⏬⏬⏬⏬⏬⏬⏬⏬⏬⏬⏬⏬⏬⏬⏬⏬⏬⏬⏬⏬⏬⏬⏬⏬\n"
      ],
      "metadata": {
        "id": "Sql5ojO33Kl3"
      }
    },
    {
      "cell_type": "code",
      "source": [
        "%cd /content/LSTMMSNet/src/LSTM-Models/rnn_architectures/stacking_model/\n",
        "!python energy_stacking_model_DS_trainer.py"
      ],
      "metadata": {
        "colab": {
          "base_uri": "https://localhost:8080/"
        },
        "id": "R0EYBNlmZUij",
        "outputId": "1030507b-25b4-4f2f-8dfc-f5beed97ebbe"
      },
      "execution_count": null,
      "outputs": [
        {
          "output_type": "stream",
          "name": "stdout",
          "text": [
            "/content/LSTMMSNet/src/LSTM-Models/rnn_architectures/stacking_model\n",
            "  File \"/content/LSTMMSNet/src/LSTM-Models/rnn_architectures/stacking_model/energy_stacking_model_DS_trainer.py\", line 212\n",
            "    converted_validation_output = converted_validation_output - 1\n",
            "TabError: inconsistent use of tabs and spaces in indentation\n"
          ]
        }
      ]
    },
    {
      "cell_type": "code",
      "source": [
        "%cd /content/LSTMMSNet/src/LSTM-Models/\n",
        "!python generic_model_energy_DS_test.py"
      ],
      "metadata": {
        "colab": {
          "base_uri": "https://localhost:8080/"
        },
        "id": "ZDLdMjXKXCjd",
        "outputId": "76b1e74d-a363-4d42-90d4-14aaeb10f703"
      },
      "execution_count": null,
      "outputs": [
        {
          "output_type": "stream",
          "name": "stdout",
          "text": [
            "/content/LSTMMSNet/src/LSTM-Models\n",
            "2023-06-02 09:08:03.888125: W tensorflow/compiler/tf2tensorrt/utils/py_utils.cc:38] TF-TRT Warning: Could not find TensorRT\n",
            "Traceback (most recent call last):\n",
            "  File \"/content/LSTMMSNet/src/LSTM-Models/generic_model_energy_DS_test.py\", line 7, in <module>\n",
            "    from rnn_architectures.stacking_model.stacking_mean_model_tester import StackingModelTester as StackingModelTester\n",
            "ModuleNotFoundError: No module named 'rnn_architectures.stacking_model.stacking_mean_model_tester'\n"
          ]
        }
      ]
    },
    {
      "cell_type": "markdown",
      "source": [
        "**스태킹 모델(Stacking Model)의 테스트 코드 구성**\n",
        "1. 필요한 패키지 및 모듈 가져오기\n",
        "2. StackingModelTester 클래스 정의\n",
        "3. TensorFlow 그래프 설정\n",
        "4. 손실 함수와 최적화 기법 설정\n",
        "5. 데이터 준비\n",
        "6. TensorFlow 세션 실행\n",
        "7. 예측값 반환\n",
        "⏬⏬⏬⏬⏬⏬⏬⏬⏬⏬⏬⏬⏬⏬⏬⏬⏬⏬⏬⏬⏬⏬⏬⏬⏬⏬⏬⏬\n",
        "\n"
      ],
      "metadata": {
        "id": "D6bJ9Yvz4MwP"
      }
    },
    {
      "cell_type": "code",
      "source": [
        "%cd /content/LSTMMSNet/src/LSTM-Models/rnn_architectures/stacking_model/\n",
        "!python energy_stacking_model_DS_tester.py"
      ],
      "metadata": {
        "colab": {
          "base_uri": "https://localhost:8080/"
        },
        "id": "D0_8nIkpZeOh",
        "outputId": "09bd69eb-03e1-4bb6-bbd5-c4a3dec15ce1"
      },
      "execution_count": null,
      "outputs": [
        {
          "output_type": "stream",
          "name": "stdout",
          "text": [
            "/content/LSTMMSNet/src/LSTM-Models/rnn_architectures/stacking_model\n",
            "2023-06-02 09:26:58.698179: W tensorflow/compiler/tf2tensorrt/utils/py_utils.cc:38] TF-TRT Warning: Could not find TensorRT\n",
            "Traceback (most recent call last):\n",
            "  File \"/content/LSTMMSNet/src/LSTM-Models/rnn_architectures/stacking_model/energy_stacking_model_DS_tester.py\", line 3, in <module>\n",
            "    from tfrecords_handler.moving_window.tfrecord_mean_reader import TFRecordReader\n",
            "ModuleNotFoundError: No module named 'tfrecords_handler'\n"
          ]
        }
      ]
    },
    {
      "cell_type": "markdown",
      "source": [],
      "metadata": {
        "id": "Ruysdl967OLy"
      }
    }
  ]
}